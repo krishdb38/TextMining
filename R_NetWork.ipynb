{
 "cells": [
  {
   "cell_type": "code",
   "execution_count": 3,
   "metadata": {},
   "outputs": [
    {
     "name": "stderr",
     "output_type": "stream",
     "text": [
      "Installing package into 'C:/Users/user/Documents/R/win-library/3.6'\n",
      "(as 'lib' is unspecified)\n"
     ]
    },
    {
     "name": "stdout",
     "output_type": "stream",
     "text": [
      "\n",
      "  There is a binary version available but the source version is later:\n",
      "        binary  source needs_compilation\n",
      "igraph 1.2.4.1 1.2.4.2              TRUE\n",
      "\n",
      "  Binaries will be installed\n",
      "package 'igraph' successfully unpacked and MD5 sums checked\n",
      "\n",
      "The downloaded binary packages are in\n",
      "\tC:\\Users\\user\\AppData\\Local\\Temp\\RtmpKEFjaU\\downloaded_packages\n"
     ]
    }
   ],
   "source": [
    "#install.packages(\"igraph\")"
   ]
  },
  {
   "cell_type": "code",
   "execution_count": 1,
   "metadata": {},
   "outputs": [
    {
     "ename": "ERROR",
     "evalue": "Error in library(igraph): there is no package called 'igraph'\n",
     "output_type": "error",
     "traceback": [
      "Error in library(igraph): there is no package called 'igraph'\nTraceback:\n",
      "1. library(igraph)"
     ]
    }
   ],
   "source": [
    "library(igraph)\n",
    "library(readr)"
   ]
  },
  {
   "cell_type": "code",
   "execution_count": 13,
   "metadata": {},
   "outputs": [
    {
     "name": "stderr",
     "output_type": "stream",
     "text": [
      "Parsed with column specification:\n",
      "cols(\n",
      "  Actor = col_character(),\n",
      "  Gender = col_character(),\n",
      "  BestActorActress = col_character()\n",
      ")\n",
      "Parsed with column specification:\n",
      "cols(\n",
      "  `Actor 1` = col_character(),\n",
      "  `Actor 2` = col_character(),\n",
      "  Movie = col_character()\n",
      ")\n"
     ]
    }
   ],
   "source": [
    "actors = read_csv(\"https://raw.githubusercontent.com/OPER682-Tucker/Social-Network-Analysis/master/Actors.csv\")\n",
    "movies = read_csv(\"https://raw.githubusercontent.com/OPER682-Tucker/Social-Network-Analysis/master/Movies.csv\")"
   ]
  },
  {
   "cell_type": "code",
   "execution_count": 4,
   "metadata": {},
   "outputs": [
    {
     "data": {
      "text/html": [
       "<table>\n",
       "<thead><tr><th scope=col>Actor</th><th scope=col>Gender</th><th scope=col>BestActorActress</th></tr></thead>\n",
       "<tbody>\n",
       "\t<tr><td>Tom Hanks   </td><td>Male        </td><td>Winner      </td></tr>\n",
       "\t<tr><td>Gary Sinise </td><td>Male        </td><td>None        </td></tr>\n",
       "\t<tr><td>Robin Wright</td><td>Female      </td><td>None        </td></tr>\n",
       "\t<tr><td>Bill Paxton </td><td>Male        </td><td>None        </td></tr>\n",
       "\t<tr><td>Kevin Bacon </td><td>Male        </td><td>None        </td></tr>\n",
       "\t<tr><td>Ed Harris   </td><td>Male        </td><td>Nominated   </td></tr>\n",
       "</tbody>\n",
       "</table>\n"
      ],
      "text/latex": [
       "\\begin{tabular}{r|lll}\n",
       " Actor & Gender & BestActorActress\\\\\n",
       "\\hline\n",
       "\t Tom Hanks    & Male         & Winner      \\\\\n",
       "\t Gary Sinise  & Male         & None        \\\\\n",
       "\t Robin Wright & Female       & None        \\\\\n",
       "\t Bill Paxton  & Male         & None        \\\\\n",
       "\t Kevin Bacon  & Male         & None        \\\\\n",
       "\t Ed Harris    & Male         & Nominated   \\\\\n",
       "\\end{tabular}\n"
      ],
      "text/markdown": [
       "\n",
       "| Actor | Gender | BestActorActress |\n",
       "|---|---|---|\n",
       "| Tom Hanks    | Male         | Winner       |\n",
       "| Gary Sinise  | Male         | None         |\n",
       "| Robin Wright | Female       | None         |\n",
       "| Bill Paxton  | Male         | None         |\n",
       "| Kevin Bacon  | Male         | None         |\n",
       "| Ed Harris    | Male         | Nominated    |\n",
       "\n"
      ],
      "text/plain": [
       "  Actor        Gender BestActorActress\n",
       "1 Tom Hanks    Male   Winner          \n",
       "2 Gary Sinise  Male   None            \n",
       "3 Robin Wright Female None            \n",
       "4 Bill Paxton  Male   None            \n",
       "5 Kevin Bacon  Male   None            \n",
       "6 Ed Harris    Male   Nominated       "
      ]
     },
     "metadata": {},
     "output_type": "display_data"
    }
   ],
   "source": [
    "head(actors)"
   ]
  },
  {
   "cell_type": "code",
   "execution_count": 5,
   "metadata": {},
   "outputs": [
    {
     "data": {
      "text/html": [
       "<table>\n",
       "<thead><tr><th scope=col>Actor 1</th><th scope=col>Actor 2</th><th scope=col>Movie</th></tr></thead>\n",
       "<tbody>\n",
       "\t<tr><td>Tom Hanks   </td><td>Gary Sinise </td><td>Forest Gump </td></tr>\n",
       "\t<tr><td>Tom Hanks   </td><td>Robin Wright</td><td>Forest Gump </td></tr>\n",
       "\t<tr><td>Gary Sinise </td><td>Robin Wright</td><td>Forest Gump </td></tr>\n",
       "\t<tr><td>Tom Hanks   </td><td>Gary Sinise </td><td>Apollo 13   </td></tr>\n",
       "\t<tr><td>Tom Hanks   </td><td>Bill Paxton </td><td>Apollo 13   </td></tr>\n",
       "\t<tr><td>Tom Hanks   </td><td>Kevin Bacon </td><td>Apollo 13   </td></tr>\n",
       "</tbody>\n",
       "</table>\n"
      ],
      "text/latex": [
       "\\begin{tabular}{r|lll}\n",
       " Actor 1 & Actor 2 & Movie\\\\\n",
       "\\hline\n",
       "\t Tom Hanks    & Gary Sinise  & Forest Gump \\\\\n",
       "\t Tom Hanks    & Robin Wright & Forest Gump \\\\\n",
       "\t Gary Sinise  & Robin Wright & Forest Gump \\\\\n",
       "\t Tom Hanks    & Gary Sinise  & Apollo 13   \\\\\n",
       "\t Tom Hanks    & Bill Paxton  & Apollo 13   \\\\\n",
       "\t Tom Hanks    & Kevin Bacon  & Apollo 13   \\\\\n",
       "\\end{tabular}\n"
      ],
      "text/markdown": [
       "\n",
       "| Actor 1 | Actor 2 | Movie |\n",
       "|---|---|---|\n",
       "| Tom Hanks    | Gary Sinise  | Forest Gump  |\n",
       "| Tom Hanks    | Robin Wright | Forest Gump  |\n",
       "| Gary Sinise  | Robin Wright | Forest Gump  |\n",
       "| Tom Hanks    | Gary Sinise  | Apollo 13    |\n",
       "| Tom Hanks    | Bill Paxton  | Apollo 13    |\n",
       "| Tom Hanks    | Kevin Bacon  | Apollo 13    |\n",
       "\n"
      ],
      "text/plain": [
       "  Actor 1     Actor 2      Movie      \n",
       "1 Tom Hanks   Gary Sinise  Forest Gump\n",
       "2 Tom Hanks   Robin Wright Forest Gump\n",
       "3 Gary Sinise Robin Wright Forest Gump\n",
       "4 Tom Hanks   Gary Sinise  Apollo 13  \n",
       "5 Tom Hanks   Bill Paxton  Apollo 13  \n",
       "6 Tom Hanks   Kevin Bacon  Apollo 13  "
      ]
     },
     "metadata": {},
     "output_type": "display_data"
    }
   ],
   "source": [
    "head(movies)"
   ]
  },
  {
   "cell_type": "code",
   "execution_count": 9,
   "metadata": {},
   "outputs": [
    {
     "data": {
      "text/plain": [
       "    Actor              Gender          BestActorActress  \n",
       " Length:8           Length:8           Length:8          \n",
       " Class :character   Class :character   Class :character  \n",
       " Mode  :character   Mode  :character   Mode  :character  "
      ]
     },
     "metadata": {},
     "output_type": "display_data"
    }
   ],
   "source": [
    "summary(actors)"
   ]
  },
  {
   "cell_type": "code",
   "execution_count": 10,
   "metadata": {},
   "outputs": [
    {
     "data": {
      "text/plain": [
       "   Actor 1            Actor 2             Movie          \n",
       " Length:16          Length:16          Length:16         \n",
       " Class :character   Class :character   Class :character  \n",
       " Mode  :character   Mode  :character   Mode  :character  "
      ]
     },
     "metadata": {},
     "output_type": "display_data"
    }
   ],
   "source": [
    "summary(movies)"
   ]
  },
  {
   "cell_type": "code",
   "execution_count": 14,
   "metadata": {},
   "outputs": [],
   "source": [
    "actorNetwork = graph_from_data_frame(d=movies, vertices=actors, directed=F)"
   ]
  },
  {
   "cell_type": "code",
   "execution_count": 15,
   "metadata": {},
   "outputs": [
    {
     "data": {
      "image/png": "[encoded data removed]",
      "text/plain": [
       "Plot with title \"\""
      ]
     },
     "metadata": {},
     "output_type": "display_data"
    }
   ],
   "source": [
    "plot(actorNetwork) #Basic Plotting"
   ]
  },
  {
   "cell_type": "markdown",
   "metadata": {},
   "source": [
    "### Changing Line Color"
   ]
  },
  {
   "cell_type": "code",
   "execution_count": 16,
   "metadata": {},
   "outputs": [
    {
     "data": {
      "image/png": "[encoded data removed]",
      "text/plain": [
       "Plot with title \"\""
      ]
     },
     "metadata": {},
     "output_type": "display_data"
    }
   ],
   "source": [
    "E(actorNetwork)$color  =  ifelse(E(actorNetwork)$Movie == \"Forest Gump\",\"green\",\n",
    "                          ifelse(E(actorNetwork)$Movie==\"Apolo 13\",\"black\",\"orange\"))\n",
    "plot(actorNetwork)"
   ]
  },
  {
   "cell_type": "markdown",
   "metadata": {},
   "source": [
    "### Actors that were in Forest Gump are connected with green edges,Apolo13 are in black and  rock in Orange"
   ]
  },
  {
   "cell_type": "markdown",
   "metadata": {},
   "source": [
    "#### Changing Node Color"
   ]
  },
  {
   "cell_type": "code",
   "execution_count": 18,
   "metadata": {},
   "outputs": [
    {
     "data": {
      "image/png": "[encoded data removed]",
      "text/plain": [
       "Plot with title \"\""
      ]
     },
     "metadata": {},
     "output_type": "display_data"
    }
   ],
   "source": [
    "V(actorNetwork)$color = ifelse(V(actorNetwork)$BestActorActress==\"Winner\",\"gold\",\n",
    "                              ifelse(V(actorNetwork)$BestActorActress == \"Nominated\",\"grey\",\n",
    "                                    \"lightblue\"))\n",
    "plot(actorNetwork)"
   ]
  },
  {
   "cell_type": "markdown",
   "metadata": {},
   "source": [
    "### NODES\n",
    "<b> ```vertex.color```</b> Node color<br>\n",
    "```vertex.frame.color``` Node border color<br>\n",
    "```vertex.shape``` One of “none”, “circle”, “square”, “csquare”, <br> “rectangle” “crectangle”, “vrectangle”, “pie”, “raster”, or “sphere”\n",
    "```vertex.size``` Size of the node (default is 15)<br>\n",
    "```vertex.size2 ``` The second size of the node (e.g. for a rectangle)<br>\n",
    "```vertex.label ``` Character vector used to label the nodes<br>\n",
    "```vertex.label.family ``` Font family of the label (e.g.“Times”, “Helvetica”)<br>\n",
    "```vertex.label.font ``` Font: 1 plain, 2 bold, 3, italic, 4 bold italic, 5 symbol<br>\n",
    "```vertex.label.cex``` Font size (multiplication factor, device-dependent)<br>\n",
    "```vertex.label.dist ``` Distance between the label and the vertex <br>\n",
    "```vertex.label.degree``` The position of the label in relation to the vertex, where 0 right, “pi” is left, “pi/2” is below, and “-pi/2” is above <br>\n",
    "### EDGES<br>\n",
    "```edge.color``` Edge color<br>\n",
    "```edge.width``` Edge width, defaults to 1 <br>\n",
    "```edge.arrow.size ``` Arrow size, defaults to 1 <br>\n",
    "```edge.arrow.width``` Arrow width, defaults to 1 <br>\n",
    "```edge.lty``` Line type, could be 0 or “blank”, 1 or “solid”, 2 or “dashed”, 3 or “dotted”, 4 or “dotdash”, 5 or “longdash”, 6 or “twodash”\n",
    "```edge.label``` Character vector used to label edges<br>\n",
    "```edge.label.family``` Font family of the label (e.g.“Times”, “Helvetica”)\n",
    "```edge.label.font``` Font: 1 plain, 2 bold, 3, italic, 4 bold italic, 5 symbol\n",
    "```edge.label.cex``` Font size for edge labels <br>\n",
    "```edge.curved``` Edge curvature, range 0-1 (FALSE sets it to 0, TRUE to 0.5)\n",
    "```arrow.mode``` Vector specifying whether edges should have arrows, possible values: 0 no arrow, 1 back, 2 forward, 3 both\n",
    "OTHER\n",
    "margin Empty space margins around the plot, vector with length 4\n",
    "frame if TRUE, the plot will be framed\n",
    "main If set, adds a title to the plot\n",
    "sub If set, adds a subtitle to the plot\n",
    "\n",
    "### OTHER\n",
    "```margin``` Empty space margins around the plot, vector with length 4<br>\n",
    "```frame``` if TRUE, the plot will be framed <br>\n",
    "```main``` If set, adds a title to the plot<br>\n",
    "```sub``` If set, adds a subtitle to the plot<br>"
   ]
  },
  {
   "cell_type": "markdown",
   "metadata": {},
   "source": [
    "### Legends"
   ]
  },
  {
   "cell_type": "code",
   "execution_count": 21,
   "metadata": {},
   "outputs": [
    {
     "data": {
      "image/png": "[encoded data removed]",
      "text/plain": [
       "Plot with title \"\""
      ]
     },
     "metadata": {},
     "output_type": "display_data"
    }
   ],
   "source": [
    "plot(actorNetwork,vertex.frame.color = \"white\")\n",
    "\n",
    "#legend for node\n",
    "legend(\"bottomright\" , c(\"Winner\",\"Nominee\",\"Not Nominated\"),pch = 21, \n",
    "         col = \"red\",pt.bg=c(\"gold\",\"grey\",\"lightblue\"),pt.cex = 2 , cex =0.8)\n",
    "#legend for  line\n",
    "legend(\"topleft\",c(\"Forget Gump\",\"Apollo 13\",\"The Rock\"),\n",
    "      col = c(\"green\",\"black\", \"orange\"),lty=1,cex=0.8)\n"
   ]
  },
  {
   "cell_type": "markdown",
   "metadata": {},
   "source": [
    "## Describing the Network"
   ]
  },
  {
   "cell_type": "markdown",
   "metadata": {},
   "source": [
    "Although visualizing the network can be useful for examining the data at a high level ,  one of the most important features of social network analysis is the ability to mathematically describe a node's characterstics on the network."
   ]
  },
  {
   "cell_type": "markdown",
   "metadata": {},
   "source": [
    "### Degree Centrality"
   ]
  },
  {
   "cell_type": "markdown",
   "metadata": {},
   "source": [
    "Degree centrality is simplest of the methods , it measures the number of connections\n",
    "between a node and all other nodes. Looking at the plot above ,  Nicolas Cage is connected to sean Connery and Ed Harris"
   ]
  },
  {
   "cell_type": "code",
   "execution_count": 23,
   "metadata": {},
   "outputs": [
    {
     "data": {
      "text/html": [
       "<dl class=dl-horizontal>\n",
       "\t<dt>Tom Hanks</dt>\n",
       "\t\t<dd>6</dd>\n",
       "\t<dt>Gary Sinise</dt>\n",
       "\t\t<dd>6</dd>\n",
       "\t<dt>Robin Wright</dt>\n",
       "\t\t<dd>2</dd>\n",
       "\t<dt>Bill Paxton</dt>\n",
       "\t\t<dd>4</dd>\n",
       "\t<dt>Kevin Bacon</dt>\n",
       "\t\t<dd>4</dd>\n",
       "\t<dt>Ed Harris</dt>\n",
       "\t\t<dd>6</dd>\n",
       "\t<dt>Sean Connery</dt>\n",
       "\t\t<dd>2</dd>\n",
       "\t<dt>Nicolas Cage</dt>\n",
       "\t\t<dd>2</dd>\n",
       "</dl>\n"
      ],
      "text/latex": [
       "\\begin{description*}\n",
       "\\item[Tom Hanks] 6\n",
       "\\item[Gary Sinise] 6\n",
       "\\item[Robin Wright] 2\n",
       "\\item[Bill Paxton] 4\n",
       "\\item[Kevin Bacon] 4\n",
       "\\item[Ed Harris] 6\n",
       "\\item[Sean Connery] 2\n",
       "\\item[Nicolas Cage] 2\n",
       "\\end{description*}\n"
      ],
      "text/markdown": [
       "Tom Hanks\n",
       ":   6Gary Sinise\n",
       ":   6Robin Wright\n",
       ":   2Bill Paxton\n",
       ":   4Kevin Bacon\n",
       ":   4Ed Harris\n",
       ":   6Sean Connery\n",
       ":   2Nicolas Cage\n",
       ":   2\n",
       "\n"
      ],
      "text/plain": [
       "   Tom Hanks  Gary Sinise Robin Wright  Bill Paxton  Kevin Bacon    Ed Harris \n",
       "           6            6            2            4            4            6 \n",
       "Sean Connery Nicolas Cage \n",
       "           2            2 "
      ]
     },
     "metadata": {},
     "output_type": "display_data"
    }
   ],
   "source": [
    "degree(actorNetwork, mode = \"all\")"
   ]
  },
  {
   "cell_type": "markdown",
   "metadata": {},
   "source": [
    "## Closeness Centrality"
   ]
  },
  {
   "cell_type": "code",
   "execution_count": 24,
   "metadata": {},
   "outputs": [
    {
     "data": {
      "text/html": [
       "<dl class=dl-horizontal>\n",
       "\t<dt>Tom Hanks</dt>\n",
       "\t\t<dd>0.777777777777778</dd>\n",
       "\t<dt>Gary Sinise</dt>\n",
       "\t\t<dd>0.777777777777778</dd>\n",
       "\t<dt>Robin Wright</dt>\n",
       "\t\t<dd>0.5</dd>\n",
       "\t<dt>Bill Paxton</dt>\n",
       "\t\t<dd>0.7</dd>\n",
       "\t<dt>Kevin Bacon</dt>\n",
       "\t\t<dd>0.7</dd>\n",
       "\t<dt>Ed Harris</dt>\n",
       "\t\t<dd>0.875</dd>\n",
       "\t<dt>Sean Connery</dt>\n",
       "\t\t<dd>0.538461538461538</dd>\n",
       "\t<dt>Nicolas Cage</dt>\n",
       "\t\t<dd>0.538461538461538</dd>\n",
       "</dl>\n"
      ],
      "text/latex": [
       "\\begin{description*}\n",
       "\\item[Tom Hanks] 0.777777777777778\n",
       "\\item[Gary Sinise] 0.777777777777778\n",
       "\\item[Robin Wright] 0.5\n",
       "\\item[Bill Paxton] 0.7\n",
       "\\item[Kevin Bacon] 0.7\n",
       "\\item[Ed Harris] 0.875\n",
       "\\item[Sean Connery] 0.538461538461538\n",
       "\\item[Nicolas Cage] 0.538461538461538\n",
       "\\end{description*}\n"
      ],
      "text/markdown": [
       "Tom Hanks\n",
       ":   0.777777777777778Gary Sinise\n",
       ":   0.777777777777778Robin Wright\n",
       ":   0.5Bill Paxton\n",
       ":   0.7Kevin Bacon\n",
       ":   0.7Ed Harris\n",
       ":   0.875Sean Connery\n",
       ":   0.538461538461538Nicolas Cage\n",
       ":   0.538461538461538\n",
       "\n"
      ],
      "text/plain": [
       "   Tom Hanks  Gary Sinise Robin Wright  Bill Paxton  Kevin Bacon    Ed Harris \n",
       "   0.7777778    0.7777778    0.5000000    0.7000000    0.7000000    0.8750000 \n",
       "Sean Connery Nicolas Cage \n",
       "   0.5384615    0.5384615 "
      ]
     },
     "metadata": {},
     "output_type": "display_data"
    }
   ],
   "source": [
    "closeness(actorNetwork , mode=\"all\", weights = NA , normalized = T)"
   ]
  },
  {
   "cell_type": "markdown",
   "metadata": {},
   "source": [
    "###  Betweenness Centrality"
   ]
  },
  {
   "cell_type": "markdown",
   "metadata": {},
   "source": [
    "Betweenness centrality offers another way of measuring an individuals centrality. In social networks there can be weakly connected individuals who are still indispensale to certail transactions . Although these individuals may not have a high level of degree centrality , they may be chokepoints through which information moves.\n",
    "\n"
   ]
  },
  {
   "cell_type": "code",
   "execution_count": 25,
   "metadata": {},
   "outputs": [
    {
     "data": {
      "text/html": [
       "<dl class=dl-horizontal>\n",
       "\t<dt>Tom Hanks</dt>\n",
       "\t\t<dd>0.119047619047619</dd>\n",
       "\t<dt>Gary Sinise</dt>\n",
       "\t\t<dd>0.119047619047619</dd>\n",
       "\t<dt>Robin Wright</dt>\n",
       "\t\t<dd>0</dd>\n",
       "\t<dt>Bill Paxton</dt>\n",
       "\t\t<dd>0</dd>\n",
       "\t<dt>Kevin Bacon</dt>\n",
       "\t\t<dd>0</dd>\n",
       "\t<dt>Ed Harris</dt>\n",
       "\t\t<dd>0.476190476190476</dd>\n",
       "\t<dt>Sean Connery</dt>\n",
       "\t\t<dd>0</dd>\n",
       "\t<dt>Nicolas Cage</dt>\n",
       "\t\t<dd>0</dd>\n",
       "</dl>\n"
      ],
      "text/latex": [
       "\\begin{description*}\n",
       "\\item[Tom Hanks] 0.119047619047619\n",
       "\\item[Gary Sinise] 0.119047619047619\n",
       "\\item[Robin Wright] 0\n",
       "\\item[Bill Paxton] 0\n",
       "\\item[Kevin Bacon] 0\n",
       "\\item[Ed Harris] 0.476190476190476\n",
       "\\item[Sean Connery] 0\n",
       "\\item[Nicolas Cage] 0\n",
       "\\end{description*}\n"
      ],
      "text/markdown": [
       "Tom Hanks\n",
       ":   0.119047619047619Gary Sinise\n",
       ":   0.119047619047619Robin Wright\n",
       ":   0Bill Paxton\n",
       ":   0Kevin Bacon\n",
       ":   0Ed Harris\n",
       ":   0.476190476190476Sean Connery\n",
       ":   0Nicolas Cage\n",
       ":   0\n",
       "\n"
      ],
      "text/plain": [
       "   Tom Hanks  Gary Sinise Robin Wright  Bill Paxton  Kevin Bacon    Ed Harris \n",
       "   0.1190476    0.1190476    0.0000000    0.0000000    0.0000000    0.4761905 \n",
       "Sean Connery Nicolas Cage \n",
       "   0.0000000    0.0000000 "
      ]
     },
     "metadata": {},
     "output_type": "display_data"
    }
   ],
   "source": [
    "betweenness(actorNetwork, directed = F , weights = NA , normalized = T)"
   ]
  },
  {
   "cell_type": "markdown",
   "metadata": {},
   "source": [
    "### Bacon  Score"
   ]
  },
  {
   "cell_type": "markdown",
   "metadata": {},
   "source": [
    "As  this tutorial has been using the example of Six Degrees of Kevin Bacon to discuss social networks\n",
    ", it is only fitting to calculate each actor's Bacon Score in thsi social network."
   ]
  },
  {
   "cell_type": "code",
   "execution_count": 26,
   "metadata": {},
   "outputs": [
    {
     "data": {
      "text/html": [
       "<table>\n",
       "<thead><tr><th></th><th scope=col>Tom Hanks</th><th scope=col>Gary Sinise</th><th scope=col>Robin Wright</th><th scope=col>Bill Paxton</th><th scope=col>Kevin Bacon</th><th scope=col>Ed Harris</th><th scope=col>Sean Connery</th><th scope=col>Nicolas Cage</th></tr></thead>\n",
       "<tbody>\n",
       "\t<tr><th scope=row>Kevin Bacon</th><td>1</td><td>1</td><td>2</td><td>1</td><td>0</td><td>1</td><td>2</td><td>2</td></tr>\n",
       "</tbody>\n",
       "</table>\n"
      ],
      "text/latex": [
       "\\begin{tabular}{r|llllllll}\n",
       "  & Tom Hanks & Gary Sinise & Robin Wright & Bill Paxton & Kevin Bacon & Ed Harris & Sean Connery & Nicolas Cage\\\\\n",
       "\\hline\n",
       "\tKevin Bacon & 1 & 1 & 2 & 1 & 0 & 1 & 2 & 2\\\\\n",
       "\\end{tabular}\n"
      ],
      "text/markdown": [
       "\n",
       "| <!--/--> | Tom Hanks | Gary Sinise | Robin Wright | Bill Paxton | Kevin Bacon | Ed Harris | Sean Connery | Nicolas Cage |\n",
       "|---|---|---|---|---|---|---|---|---|\n",
       "| Kevin Bacon | 1 | 1 | 2 | 1 | 0 | 1 | 2 | 2 |\n",
       "\n"
      ],
      "text/plain": [
       "            Tom Hanks Gary Sinise Robin Wright Bill Paxton Kevin Bacon\n",
       "Kevin Bacon 1         1           2            1           0          \n",
       "            Ed Harris Sean Connery Nicolas Cage\n",
       "Kevin Bacon 1         2            2           "
      ]
     },
     "metadata": {},
     "output_type": "display_data"
    }
   ],
   "source": [
    "distances(actorNetwork, v =  V(actorNetwork)[\"Kevin Bacon\"], to = V(actorNetwork),weights = NA)"
   ]
  },
  {
   "cell_type": "markdown",
   "metadata": {},
   "source": [
    "## Military Utility"
   ]
  },
  {
   "cell_type": "markdown",
   "metadata": {},
   "source": [
    "Social Network Analysis is currently being used by the Department of Defense for a variety of applications. In the instruction of A User's Guide to Network Analysis in R."
   ]
  },
  {
   "cell_type": "code",
   "execution_count": 27,
   "metadata": {},
   "outputs": [
    {
     "ename": "ERROR",
     "evalue": "Error in open.connection(con, \"rb\"): Could not resolve host: raw.githubusercontent.com\n",
     "output_type": "error",
     "traceback": [
      "Error in open.connection(con, \"rb\"): Could not resolve host: raw.githubusercontent.com\nTraceback:\n",
      "1. read_csv(\"https://raw.githubusercontent.com/OPER682-Tucker/Social-Network-Analysis/master/ActorsExercise.csv\")",
      "2. read_delimited(file, tokenizer, col_names = col_names, col_types = col_types, \n .     locale = locale, skip = skip, skip_empty_rows = skip_empty_rows, \n .     comment = comment, n_max = n_max, guess_max = guess_max, \n .     progress = progress)",
      "3. datasource_connection(file, skip, skip_empty_rows, comment)",
      "4. read_connection(path)",
      "5. open(con, \"rb\")",
      "6. open.connection(con, \"rb\")"
     ]
    }
   ],
   "source": [
    "actors <- read_csv(\"https://raw.githubusercontent.com/OPER682-Tucker/Social-Network-Analysis/master/ActorsExercise.csv\")\n",
    "movies <- read_csv(\"https://raw.githubusercontent.com/OPER682-Tucker/Social-Network-Analysis/master/MoviesExercise.csv\")\n",
    "actorNetwork <- graph_from_data_frame(d=movies, vertices=actors, directed=F)\n",
    "E(actorNetwork)$color <- ifelse(E(actorNetwork)$Movie == \"Forest Gump\", \"green\", \n",
    "                         ifelse(E(actorNetwork)$Movie == \"Apollo 13\", \"black\",\n",
    "                         ifelse(E(actorNetwork)$Movie == \"The Rock\", \"orange\", \"red\")))\n",
    "V(actorNetwork)$color <- ifelse(V(actorNetwork)$Gender == \"Male\", \"lightblue\", \"pink\")\n",
    "plot(actorNetwork)\n",
    "legend(\"topleft\", c(\"Male\",\"Female\"), pch=21,\n",
    "  col=\"#777777\", pt.bg=c(\"lightblue\",\"pink\"), pt.cex=2, cex=.8)\n",
    "legend(\"bottomright\", c(\"Forest Gump\",\"Apollo 13\", \"The Rock\", \"Titanic\"), \n",
    "       col=c(\"green\",\"black\",\"orange\",\"red\"), lty=1, cex=.8)\n"
   ]
  }
 ],
 "metadata": {
  "kernelspec": {
   "display_name": "R",
   "language": "R",
   "name": "ir"
  },
  "language_info": {
   "codemirror_mode": "r",
   "file_extension": ".r",
   "mimetype": "text/x-r-source",
   "name": "R",
   "pygments_lexer": "r",
   "version": "3.6.1"
  }
 },
 "nbformat": 4,
 "nbformat_minor": 2
}
